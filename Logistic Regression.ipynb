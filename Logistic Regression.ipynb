{
 "cells": [
  {
   "cell_type": "markdown",
   "metadata": {
    "colab_type": "text",
    "id": "view-in-github"
   },
   "source": [
    "<a href=\"https://colab.research.google.com/github/Shreya549/no-phishy/blob/master/Logistic_Regression.ipynb\" target=\"_parent\"><img src=\"https://colab.research.google.com/assets/colab-badge.svg\" alt=\"Open In Colab\"/></a>"
   ]
  },
  {
   "cell_type": "markdown",
   "metadata": {
    "id": "vJ4Idx6Wytg2"
   },
   "source": [
    "**Importing the libraries**"
   ]
  },
  {
   "cell_type": "code",
   "execution_count": 1,
   "metadata": {
    "id": "jzJidlrftAk8"
   },
   "outputs": [],
   "source": [
    "from sklearn.linear_model import LogisticRegression as lr\n",
    "from sklearn.metrics import accuracy_score"
   ]
  },
  {
   "cell_type": "code",
   "execution_count": 2,
   "metadata": {
    "id": "cRL57a94yqOz"
   },
   "outputs": [],
   "source": [
    "import numpy as np\n",
    "import matplotlib.pyplot as plt\n",
    "import pandas as pd"
   ]
  },
  {
   "cell_type": "markdown",
   "metadata": {
    "id": "T6vVonCezFvs"
   },
   "source": [
    "**Importing the dataset**"
   ]
  },
  {
   "cell_type": "code",
   "execution_count": 3,
   "metadata": {
    "id": "SrRnJX68y0DC"
   },
   "outputs": [],
   "source": [
    "dataset = pd.read_csv(r'C:\\Users\\solan\\OneDrive\\Desktop\\Jupyter Notebook\\no-phishy\\RESULT.csv')\n",
    "X = dataset.iloc[:, :10].values\n",
    "y = dataset.iloc[:, 10].values"
   ]
  },
  {
   "cell_type": "code",
   "execution_count": 4,
   "metadata": {
    "id": "jofL2uklzmLc"
   },
   "outputs": [],
   "source": [
    "from sklearn.model_selection import train_test_split\n",
    "training_inputs, testing_inputs, training_outputs,testing_outputs= train_test_split(X,\n",
    "y, test_size = 0.2, random_state = 0)"
   ]
  },
  {
   "cell_type": "markdown",
   "metadata": {
    "id": "voNLuKdS0DNa"
   },
   "source": [
    "**Feature Scaling using Normalization**"
   ]
  },
  {
   "cell_type": "code",
   "execution_count": 5,
   "metadata": {
    "id": "uoEcIraxz_ER"
   },
   "outputs": [],
   "source": [
    "from sklearn.preprocessing import StandardScaler\n",
    "sc = StandardScaler()\n",
    "training_inputs = sc.fit_transform(training_inputs)\n",
    "testing_inputs = sc.transform(testing_inputs)"
   ]
  },
  {
   "cell_type": "markdown",
   "metadata": {
    "id": "LaVcUEdrOK4Y"
   },
   "source": [
    "**Fitting the Classifier**"
   ]
  },
  {
   "cell_type": "code",
   "execution_count": 6,
   "metadata": {
    "colab": {
     "base_uri": "https://localhost:8080/",
     "height": 104
    },
    "id": "iKHR8o9w-hK3",
    "outputId": "dafb0e23-1df0-4f65-9f2e-f8ccb4267700"
   },
   "outputs": [
    {
     "data": {
      "text/plain": [
       "LogisticRegression(max_iter=2000)"
      ]
     },
     "execution_count": 6,
     "metadata": {},
     "output_type": "execute_result"
    }
   ],
   "source": [
    "classifier = lr(max_iter= 2000)\n",
    "classifier.fit(training_inputs, training_outputs)"
   ]
  },
  {
   "cell_type": "markdown",
   "metadata": {
    "id": "uEKN3PerObsd"
   },
   "source": [
    "**Predicting Accuracy**"
   ]
  },
  {
   "cell_type": "code",
   "execution_count": 7,
   "metadata": {
    "colab": {
     "base_uri": "https://localhost:8080/",
     "height": 35
    },
    "id": "C7vXetrHGt_W",
    "outputId": "81528949-efe1-47e9-c9b5-0f082dd44354"
   },
   "outputs": [
    {
     "name": "stdout",
     "output_type": "stream",
     "text": [
      "71.5\n"
     ]
    }
   ],
   "source": [
    "predictions = classifier.predict(testing_inputs)\n",
    "accuracy = 100.0 * accuracy_score(testing_outputs, predictions)\n",
    "print(accuracy)"
   ]
  },
  {
   "cell_type": "code",
   "execution_count": 8,
   "metadata": {
    "colab": {
     "base_uri": "https://localhost:8080/",
     "height": 52
    },
    "id": "cuCF4L2sUCb5",
    "outputId": "48405bd8-4802-49e1-af57-1ea2ee5fc3f9"
   },
   "outputs": [
    {
     "data": {
      "text/plain": [
       "array([[1309,  120],\n",
       "       [ 450,  121]], dtype=int64)"
      ]
     },
     "execution_count": 8,
     "metadata": {},
     "output_type": "execute_result"
    }
   ],
   "source": [
    "from sklearn.metrics import confusion_matrix\n",
    "cm = confusion_matrix(testing_outputs, predictions)\n",
    "cm"
   ]
  }
 ],
 "metadata": {
  "colab": {
   "authorship_tag": "ABX9TyOtRO18LNncoN3gHpkSZLIk",
   "include_colab_link": true,
   "name": "Logistic Regression",
   "provenance": []
  },
  "kernelspec": {
   "display_name": "Python 3",
   "language": "python",
   "name": "python3"
  },
  "language_info": {
   "codemirror_mode": {
    "name": "ipython",
    "version": 3
   },
   "file_extension": ".py",
   "mimetype": "text/x-python",
   "name": "python",
   "nbconvert_exporter": "python",
   "pygments_lexer": "ipython3",
   "version": "3.8.5"
  }
 },
 "nbformat": 4,
 "nbformat_minor": 1
}
