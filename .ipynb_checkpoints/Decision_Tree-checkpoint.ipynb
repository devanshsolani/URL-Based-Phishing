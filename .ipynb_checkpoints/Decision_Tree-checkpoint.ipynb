{
 "cells": [
  {
   "cell_type": "markdown",
   "metadata": {
    "colab_type": "text",
    "id": "view-in-github"
   },
   "source": [
    "<a href=\"https://colab.research.google.com/github/Shreya549/no-phishy/blob/master/Decision_Tree.ipynb\" target=\"_parent\"><img src=\"https://colab.research.google.com/assets/colab-badge.svg\" alt=\"Open In Colab\"/></a>"
   ]
  },
  {
   "cell_type": "markdown",
   "metadata": {
    "id": "1JF4haJSZ3lo"
   },
   "source": [
    "**Importing the Libraries**"
   ]
  },
  {
   "cell_type": "code",
   "execution_count": 1,
   "metadata": {
    "id": "FLYnf5EiRHfq"
   },
   "outputs": [],
   "source": [
    "from sklearn import tree\n",
    "from sklearn.metrics import accuracy_score"
   ]
  },
  {
   "cell_type": "code",
   "execution_count": 2,
   "metadata": {
    "id": "CdqHAOS1RQQX"
   },
   "outputs": [],
   "source": [
    "import numpy as np"
   ]
  },
  {
   "cell_type": "markdown",
   "metadata": {
    "id": "DA9TfdMsZ-Fz"
   },
   "source": [
    "**Reading the dataset**"
   ]
  },
  {
   "cell_type": "code",
   "execution_count": 3,
   "metadata": {
    "id": "ztKE-LhhRWOD"
   },
   "outputs": [],
   "source": [
    "training_data = np.genfromtxt(r'C:\\Users\\solan\\OneDrive\\Desktop\\Jupyter Notebook\\no-phishy\\RESULT.csv', delimiter=',', dtype=np.int32)"
   ]
  },
  {
   "cell_type": "markdown",
   "metadata": {
    "id": "SX1n_4pVaN0y"
   },
   "source": [
    "**Dividing the data into input and the output**"
   ]
  },
  {
   "cell_type": "code",
   "execution_count": 4,
   "metadata": {
    "id": "XJZkCtqaRgla"
   },
   "outputs": [],
   "source": [
    "inputs = training_data[:,:-1]\n",
    "outputs = training_data[:, -1]"
   ]
  },
  {
   "cell_type": "markdown",
   "metadata": {
    "id": "UDaTmWXFazDF"
   },
   "source": [
    "**Dividing the data into training and testing inputs and outputs**"
   ]
  },
  {
   "cell_type": "code",
   "execution_count": 5,
   "metadata": {
    "id": "7KIhlpUfRmd9"
   },
   "outputs": [],
   "source": [
    "from sklearn.model_selection import train_test_split\n",
    "training_inputs, testing_inputs, training_outputs,testing_outputs=train_test_split(inputs, outputs, test_size = 0.2, random_state = 0)"
   ]
  },
  {
   "cell_type": "code",
   "execution_count": 6,
   "metadata": {
    "id": "ZRnF19_ARuPN"
   },
   "outputs": [],
   "source": [
    "classifier = tree.DecisionTreeClassifier()"
   ]
  },
  {
   "cell_type": "markdown",
   "metadata": {
    "id": "Muah7jySa9fE"
   },
   "source": [
    "**Fitting the classifier**"
   ]
  },
  {
   "cell_type": "code",
   "execution_count": 7,
   "metadata": {
    "colab": {
     "base_uri": "https://localhost:8080/",
     "height": 121
    },
    "id": "N0InnHEhRyrO",
    "outputId": "372f951c-1aac-48b6-de13-8ecec41e5612"
   },
   "outputs": [
    {
     "data": {
      "text/plain": [
       "DecisionTreeClassifier()"
      ]
     },
     "execution_count": 7,
     "metadata": {},
     "output_type": "execute_result"
    }
   ],
   "source": [
    "classifier.fit(training_inputs, training_outputs)"
   ]
  },
  {
   "cell_type": "markdown",
   "metadata": {
    "id": "14f1tnMUcKEh"
   },
   "source": [
    "**Predicting the accuracy using the Testing Data**"
   ]
  },
  {
   "cell_type": "code",
   "execution_count": 8,
   "metadata": {
    "colab": {
     "base_uri": "https://localhost:8080/",
     "height": 35
    },
    "id": "hDbQW8HPR17i",
    "outputId": "6e7f516a-1c9f-46ff-ca0b-be25fd8a8449"
   },
   "outputs": [
    {
     "data": {
      "text/plain": [
       "82.50874562718641"
      ]
     },
     "execution_count": 8,
     "metadata": {},
     "output_type": "execute_result"
    }
   ],
   "source": [
    "predictions = classifier.predict(testing_inputs)\n",
    "accuracy = 100.0 * accuracy_score(testing_outputs, predictions)\n",
    "accuracy"
   ]
  },
  {
   "cell_type": "markdown",
   "metadata": {
    "id": "ZZJWxYt_cSwC"
   },
   "source": [
    "**Confusion Matrix**"
   ]
  },
  {
   "cell_type": "code",
   "execution_count": 9,
   "metadata": {
    "colab": {
     "base_uri": "https://localhost:8080/",
     "height": 52
    },
    "id": "zYKdskOvSAUH",
    "outputId": "1717a646-63b1-454d-a84f-3230b9020df1"
   },
   "outputs": [
    {
     "data": {
      "text/plain": [
       "array([[1234,  166],\n",
       "       [ 184,  417]], dtype=int64)"
      ]
     },
     "execution_count": 9,
     "metadata": {},
     "output_type": "execute_result"
    }
   ],
   "source": [
    "from sklearn.metrics import confusion_matrix\n",
    "cm = confusion_matrix(testing_outputs, predictions)\n",
    "cm"
   ]
  },
  {
   "cell_type": "markdown",
   "metadata": {
    "id": "mDwsYjcDfwoK"
   },
   "source": [
    "**Plotting the accuracy of the 4 classifiers used**"
   ]
  },
  {
   "cell_type": "code",
   "execution_count": 10,
   "metadata": {
    "colab": {
     "base_uri": "https://localhost:8080/",
     "height": 340
    },
    "id": "beMyhWbgcV6n",
    "outputId": "d2298ad1-68ac-4a7d-e9e4-c679331d345b"
   },
   "outputs": [
    {
     "data": {
      "image/png": "[encoded data removed]",
      "text/plain": [
       "<Figure size 432x288 with 1 Axes>"
      ]
     },
     "metadata": {
      "needs_background": "light"
     },
     "output_type": "display_data"
    }
   ],
   "source": [
    "import matplotlib.pyplot as plt\n",
    "fig = plt.figure()\n",
    "ax = fig.add_axes([0,0,1,1])\n",
    "algo = ['Sequential Classifier', 'Logistic Regression', 'MLP Classifier', 'Decision Tree']\n",
    "accuracy = [98.40, 96.26, 98.14, 97.64]\n",
    "ax.bar(algo, accuracy)\n",
    "plt.ylim([95, 100])\n",
    "plt.show()"
   ]
  }
 ],
 "metadata": {
  "colab": {
   "authorship_tag": "ABX9TyMFHqBHRh337uxXVrFrrVzB",
   "include_colab_link": true,
   "name": "Decision Tree",
   "provenance": []
  },
  "kernelspec": {
   "display_name": "Python 3",
   "language": "python",
   "name": "python3"
  },
  "language_info": {
   "codemirror_mode": {
    "name": "ipython",
    "version": 3
   },
   "file_extension": ".py",
   "mimetype": "text/x-python",
   "name": "python",
   "nbconvert_exporter": "python",
   "pygments_lexer": "ipython3",
   "version": "3.8.5"
  }
 },
 "nbformat": 4,
 "nbformat_minor": 1
}
