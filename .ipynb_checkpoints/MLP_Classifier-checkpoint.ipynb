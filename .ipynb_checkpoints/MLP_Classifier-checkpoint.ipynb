{
 "cells": [
  {
   "cell_type": "markdown",
   "metadata": {
    "colab_type": "text",
    "id": "view-in-github"
   },
   "source": [
    "<a href=\"https://colab.research.google.com/github/Shreya549/no-phishy/blob/master/MLP_Classifier.ipynb\" target=\"_parent\"><img src=\"https://colab.research.google.com/assets/colab-badge.svg\" alt=\"Open In Colab\"/></a>"
   ]
  },
  {
   "cell_type": "markdown",
   "metadata": {
    "id": "qMOapYplWW0-"
   },
   "source": [
    "**Importing the libraries** "
   ]
  },
  {
   "cell_type": "code",
   "execution_count": 1,
   "metadata": {
    "id": "3qzk3OUUPDV9"
   },
   "outputs": [],
   "source": [
    "import numpy\n",
    "import sklearn\n",
    "import pandas as pd\n",
    "from sklearn.model_selection import train_test_split"
   ]
  },
  {
   "cell_type": "markdown",
   "metadata": {
    "id": "HPZWLtlBWsN-"
   },
   "source": [
    "**Reading the dataset**"
   ]
  },
  {
   "cell_type": "code",
   "execution_count": 2,
   "metadata": {
    "id": "tz9zmpAuPLzv"
   },
   "outputs": [],
   "source": [
    "datatrain = pd.read_csv(r'C:\\Users\\solan\\OneDrive\\Desktop\\Jupyter Notebook\\no-phishy\\RESULT.csv')\n",
    "datatrain = datatrain.apply(pd.to_numeric)\n",
    "datatrain_array = datatrain.values"
   ]
  },
  {
   "cell_type": "markdown",
   "metadata": {
    "id": "mNTaJnMsWwIJ"
   },
   "source": [
    "**Splitting into training and testing data**"
   ]
  },
  {
   "cell_type": "code",
   "execution_count": 3,
   "metadata": {
    "id": "-U4qXhQgP4Ca"
   },
   "outputs": [],
   "source": [
    "X_train, X_test, y_train, y_test = train_test_split(datatrain_array[:,0:10],datatrain_array[:,10],test_size=0.2)"
   ]
  },
  {
   "cell_type": "markdown",
   "metadata": {
    "id": "aWPXTIuSW4_7"
   },
   "source": [
    "**Scaling the data**"
   ]
  },
  {
   "cell_type": "code",
   "execution_count": 4,
   "metadata": {
    "id": "G_FBdtE9P9fQ"
   },
   "outputs": [],
   "source": [
    "from sklearn.preprocessing import StandardScaler\n",
    "sc = StandardScaler()\n",
    "X_train = sc.fit_transform(X_train)\n",
    "X_test = sc.transform(X_test)"
   ]
  },
  {
   "cell_type": "code",
   "execution_count": 5,
   "metadata": {
    "id": "WbWQr-TzQFZT"
   },
   "outputs": [],
   "source": [
    "from sklearn.neural_network import MLPClassifier"
   ]
  },
  {
   "cell_type": "code",
   "execution_count": 6,
   "metadata": {
    "id": "GGhY7sioQKMq"
   },
   "outputs": [],
   "source": [
    "mlp = MLPClassifier(hidden_layer_sizes=(10,10),activation='logistic', solver='sgd',learning_rate_init=0.01,max_iter=1800,random_state=7,tol=0.00001)"
   ]
  },
  {
   "cell_type": "markdown",
   "metadata": {
    "id": "QbFpiyNgX1iW"
   },
   "source": [
    "hidden layer size can be a tuple as number of layer is more\n",
    "\n",
    "solver is the function used for weight optimization \n",
    "\n",
    "sgd means sophaticated gradient *descent*\n",
    "\n",
    "tol means tolerance the solver function works until the loss becomes atleast tol\n",
    "\n"
   ]
  },
  {
   "cell_type": "markdown",
   "metadata": {
    "id": "5haqHKLYXo1A"
   },
   "source": [
    "**Fitting the model**"
   ]
  },
  {
   "cell_type": "code",
   "execution_count": 7,
   "metadata": {
    "colab": {
     "base_uri": "https://localhost:8080/",
     "height": 156
    },
    "id": "NFix42oyQPwt",
    "outputId": "db490ea3-28be-486b-a697-7b75b7a0bef0"
   },
   "outputs": [
    {
     "data": {
      "text/plain": [
       "MLPClassifier(activation='logistic', hidden_layer_sizes=(10, 10),\n",
       "              learning_rate_init=0.01, max_iter=1800, random_state=7,\n",
       "              solver='sgd', tol=1e-05)"
      ]
     },
     "execution_count": 7,
     "metadata": {},
     "output_type": "execute_result"
    }
   ],
   "source": [
    "mlp.fit(X_train, y_train)"
   ]
  },
  {
   "cell_type": "code",
   "execution_count": 8,
   "metadata": {
    "colab": {
     "base_uri": "https://localhost:8080/",
     "height": 35
    },
    "id": "iXnUW8cNQQ9j",
    "outputId": "ddea9434-0c74-40fc-dcef-a0176a205037",
    "scrolled": true
   },
   "outputs": [
    {
     "name": "stdout",
     "output_type": "stream",
     "text": [
      "0.857\n"
     ]
    }
   ],
   "source": [
    "print(mlp.score(X_test,y_test))"
   ]
  },
  {
   "cell_type": "code",
   "execution_count": null,
   "metadata": {},
   "outputs": [],
   "source": [
    "# By Devansh Solani"
   ]
  }
 ],
 "metadata": {
  "colab": {
   "authorship_tag": "ABX9TyO9HHMMwIyFbzA9DLGnUD4j",
   "include_colab_link": true,
   "name": "MLP Classifier",
   "provenance": []
  },
  "kernelspec": {
   "display_name": "Python 3",
   "language": "python",
   "name": "python3"
  },
  "language_info": {
   "codemirror_mode": {
    "name": "ipython",
    "version": 3
   },
   "file_extension": ".py",
   "mimetype": "text/x-python",
   "name": "python",
   "nbconvert_exporter": "python",
   "pygments_lexer": "ipython3",
   "version": "3.8.5"
  }
 },
 "nbformat": 4,
 "nbformat_minor": 1
}
